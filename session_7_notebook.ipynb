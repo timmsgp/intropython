{
 "cells": [
  {
   "cell_type": "markdown",
   "id": "7a8c2b09",
   "metadata": {
    "tags": []
   },
   "source": [
    "Welcome to Session 4 - Working with Classes"
   ]
  },
  {
   "cell_type": "markdown",
   "id": "08aa4b0c",
   "metadata": {},
   "source": [
    "Most of the text and example code is taken directly or modified from the Python Documentation (see https://docs.python.org/3/tutorial/classes.html ) \n",
    "\n",
    "Classes provide a means of bundling data and functionality together. Creating a new class creates a new type of object, allowing new instances of that type to be made. Each class instance can have attributes attached to it for maintaining its state. Class instances can also have methods (defined by its class) for modifying its state.\n",
    "\n",
    "Compared with other programming languages, Python’s class mechanism adds classes with a minimum of new syntax and semantics. It is a mixture of the class mechanisms found in C++ and Modula-3. Python classes provide all the standard features of Object Oriented Programming: the class inheritance mechanism allows multiple base classes, a derived class can override any methods of its base class or classes, and a method can call the method of a base class with the same name. Objects can contain arbitrary amounts and kinds of data. As is true for modules, classes partake of the dynamic nature of Python: they are created at runtime, and can be modified further after creation."
   ]
  },
  {
   "cell_type": "markdown",
   "id": "902365df",
   "metadata": {
    "tags": []
   },
   "source": [
    "## Working with an object"
   ]
  },
  {
   "cell_type": "markdown",
   "id": "d773f17d-fdc1-40d2-9fc1-82fddffcf346",
   "metadata": {},
   "source": [
    "### Making an object"
   ]
  },
  {
   "cell_type": "markdown",
   "id": "4e6ae9ef-a4e5-4091-8b42-0eb36e04eb20",
   "metadata": {},
   "source": [
    "Simple class"
   ]
  },
  {
   "cell_type": "code",
   "execution_count": 11,
   "id": "5c485991-5ad7-499f-91cc-9d79742eb3b1",
   "metadata": {
    "tags": []
   },
   "outputs": [],
   "source": [
    "class MyClass:\n",
    "    \"\"\"A simple example class\"\"\"\n",
    "    i = 12345      # i for a generic integer\n",
    "\n",
    "    def f(self):   # f for a generic function\n",
    "        return 'hello world'"
   ]
  },
  {
   "cell_type": "markdown",
   "id": "cf8861aa-674e-4d5b-8cf8-100bdd24408c",
   "metadata": {},
   "source": [
    "Class instantiation"
   ]
  },
  {
   "cell_type": "code",
   "execution_count": 12,
   "id": "de11aba9-8078-4db1-9d98-a5456a58f7b9",
   "metadata": {
    "tags": []
   },
   "outputs": [],
   "source": [
    "x = MyClass()"
   ]
  },
  {
   "cell_type": "markdown",
   "id": "02d1b5e1-f2ad-49e3-a83d-2ddc03d30a84",
   "metadata": {
    "tags": []
   },
   "source": [
    "Print the class"
   ]
  },
  {
   "cell_type": "code",
   "execution_count": 13,
   "id": "7ad5fd25-0721-4c74-8cae-d725a551b540",
   "metadata": {
    "tags": []
   },
   "outputs": [
    {
     "name": "stdout",
     "output_type": "stream",
     "text": [
      "<__main__.MyClass object at 0x0000018F5DDF4B80>\n"
     ]
    }
   ],
   "source": [
    "print(x)"
   ]
  },
  {
   "cell_type": "markdown",
   "id": "474f32e9-94a9-4923-9538-d528246d9e4f",
   "metadata": {
    "tags": []
   },
   "source": [
    "Print a variable in the class"
   ]
  },
  {
   "cell_type": "code",
   "execution_count": 14,
   "id": "967cdea0-3585-4c2f-87fa-afdedae268e8",
   "metadata": {
    "tags": []
   },
   "outputs": [
    {
     "name": "stdout",
     "output_type": "stream",
     "text": [
      "12345\n"
     ]
    }
   ],
   "source": [
    "print(x.i)"
   ]
  },
  {
   "cell_type": "markdown",
   "id": "733b04b8-5370-48ba-b73b-89e356fc59f5",
   "metadata": {
    "tags": []
   },
   "source": [
    "Run a function from the class object"
   ]
  },
  {
   "cell_type": "code",
   "execution_count": 15,
   "id": "1f44130d-a369-416e-8a7a-23c203d0d8c5",
   "metadata": {
    "tags": []
   },
   "outputs": [
    {
     "data": {
      "text/plain": [
       "'hello world'"
      ]
     },
     "execution_count": 15,
     "metadata": {},
     "output_type": "execute_result"
    }
   ],
   "source": [
    "x.f()"
   ]
  },
  {
   "cell_type": "markdown",
   "id": "0066431e-1d84-40cb-a332-770787424115",
   "metadata": {
    "tags": []
   },
   "source": [
    "### A blank class instance - usage similar to C struct"
   ]
  },
  {
   "cell_type": "markdown",
   "id": "c5917730",
   "metadata": {},
   "source": [
    "Making a blank Employee and then adding fields"
   ]
  },
  {
   "cell_type": "code",
   "execution_count": 16,
   "id": "5163cbdd",
   "metadata": {},
   "outputs": [],
   "source": [
    "class Employee:\n",
    "    pass\n",
    "\n",
    "john = Employee()  # Create an empty employee record\n",
    "\n",
    "# Fill the fields of the record\n",
    "john.name = 'John Doe'\n",
    "john.dept = 'computer lab'\n",
    "john.salary = 1000"
   ]
  },
  {
   "cell_type": "markdown",
   "id": "6e45fe21-a79a-4ebf-8d73-addef5cc18ad",
   "metadata": {},
   "source": [
    "### Class and Instance Variables"
   ]
  },
  {
   "cell_type": "markdown",
   "id": "fc72563c-6bad-4871-b6d0-e3b692decb2c",
   "metadata": {},
   "source": [
    "Making a class Dog"
   ]
  },
  {
   "cell_type": "code",
   "execution_count": 17,
   "id": "e828dc80-b345-4fb6-b45f-960cdf0cb4ec",
   "metadata": {},
   "outputs": [],
   "source": [
    "class Dog:\n",
    "\n",
    "    kind = 'canine'         # class variable shared by all instances\n",
    "\n",
    "    def __init__(self, name):\n",
    "        self.name = name    # instance variable unique to each instance"
   ]
  },
  {
   "cell_type": "raw",
   "id": "e98cdb64-0a37-4c24-b767-ec39ae28c2aa",
   "metadata": {},
   "source": [
    "2 Class instances"
   ]
  },
  {
   "cell_type": "code",
   "execution_count": 18,
   "id": "e317d146-51aa-4737-961b-8bee606d0433",
   "metadata": {},
   "outputs": [],
   "source": [
    "d = Dog('Fido')\n",
    "e = Dog('Buddy')"
   ]
  },
  {
   "cell_type": "raw",
   "id": "d47b247d-205c-4ba9-999b-22e51995a8fa",
   "metadata": {},
   "source": [
    "What kind of each instance?"
   ]
  },
  {
   "cell_type": "code",
   "execution_count": 21,
   "id": "0f8025af-a25a-41d4-b2ad-1f209580b5ca",
   "metadata": {},
   "outputs": [
    {
     "name": "stdout",
     "output_type": "stream",
     "text": [
      "canine\n",
      "canine\n"
     ]
    }
   ],
   "source": [
    "print(d.kind)\n",
    "print(e.kind)"
   ]
  },
  {
   "cell_type": "markdown",
   "id": "fb3dc7f1",
   "metadata": {},
   "source": [
    "### Variables with Classes "
   ]
  },
  {
   "cell_type": "raw",
   "id": "c1f4ded7",
   "metadata": {},
   "source": [
    "Mistaken use of class variable"
   ]
  },
  {
   "cell_type": "code",
   "execution_count": 22,
   "id": "4c3f4b01",
   "metadata": {},
   "outputs": [],
   "source": [
    "class Dog:\n",
    "\n",
    "    tricks = []             # mistaken use of a class variable\n",
    "\n",
    "    def __init__(self, name):\n",
    "        self.name = name\n",
    "\n",
    "    def add_trick(self, trick):\n",
    "        self.tricks.append(trick)\n",
    "\n",
    "d = Dog('Fido')\n",
    "e = Dog('Buddy')\n",
    "d.add_trick('roll over')\n",
    "e.add_trick('play dead')  "
   ]
  },
  {
   "cell_type": "markdown",
   "id": "429b9009-240e-4876-bcac-7f780e62092a",
   "metadata": {
    "tags": []
   },
   "source": [
    "What would be the output for the following?"
   ]
  },
  {
   "cell_type": "code",
   "execution_count": 23,
   "id": "e6ef33fb",
   "metadata": {},
   "outputs": [
    {
     "data": {
      "text/plain": [
       "['roll over', 'play dead']"
      ]
     },
     "execution_count": 23,
     "metadata": {},
     "output_type": "execute_result"
    }
   ],
   "source": [
    "d.tricks "
   ]
  },
  {
   "cell_type": "markdown",
   "id": "c4e93647",
   "metadata": {},
   "source": [
    "Making the class variable and instance variable:"
   ]
  },
  {
   "cell_type": "code",
   "execution_count": 24,
   "id": "db61baa9-6da2-4113-acf4-0a953c08a773",
   "metadata": {},
   "outputs": [],
   "source": [
    "class Dog:\n",
    "\n",
    "    def __init__(self, name):\n",
    "        self.name = name\n",
    "        self.tricks = []    # creates a new empty list for each dog\n",
    "\n",
    "    def add_trick(self, trick):\n",
    "        self.tricks.append(trick)\n",
    "\n",
    "d = Dog('Fido')\n",
    "e = Dog('Buddy')\n",
    "d.add_trick('roll over')\n",
    "e.add_trick('play dead')"
   ]
  },
  {
   "cell_type": "markdown",
   "id": "d33fb4a7",
   "metadata": {},
   "source": [
    "What is the output of the following?"
   ]
  },
  {
   "cell_type": "code",
   "execution_count": 25,
   "id": "c2fe1885",
   "metadata": {},
   "outputs": [
    {
     "data": {
      "text/plain": [
       "['roll over']"
      ]
     },
     "execution_count": 25,
     "metadata": {},
     "output_type": "execute_result"
    }
   ],
   "source": [
    "d.tricks"
   ]
  },
  {
   "cell_type": "code",
   "execution_count": 26,
   "id": "e544fc98",
   "metadata": {},
   "outputs": [
    {
     "data": {
      "text/plain": [
       "['play dead']"
      ]
     },
     "execution_count": 26,
     "metadata": {},
     "output_type": "execute_result"
    }
   ],
   "source": [
    "e.tricks"
   ]
  },
  {
   "cell_type": "markdown",
   "id": "cec6c416",
   "metadata": {},
   "source": [
    "## Review of class and instance variables"
   ]
  },
  {
   "cell_type": "markdown",
   "id": "fd5f642b",
   "metadata": {},
   "source": [
    "The following sections are loosely based on some examples from Chapter 6 of \"Learn Python Programming - Second Edition\" written by Fabrizio Romano,  see:  https://www.packtpub.com/free-ebook/learn-python-programming-second-edition/9781788996662"
   ]
  },
  {
   "cell_type": "markdown",
   "id": "b2c6c0a5-b256-4c01-a5cc-0a9879db6531",
   "metadata": {},
   "source": [
    "Define the class and test"
   ]
  },
  {
   "cell_type": "code",
   "execution_count": 27,
   "id": "0681ebff-2290-4b2c-afe5-65257d37e48c",
   "metadata": {
    "tags": []
   },
   "outputs": [
    {
     "name": "stdout",
     "output_type": "stream",
     "text": [
      "Allens age is 8 years which is 96 months\n",
      "Charleston\n",
      "Stacys age is 10 years which is 120 months\n",
      "Stacys age is 10 years which is 120 months\n"
     ]
    }
   ],
   "source": [
    "class SeaBass:\n",
    "    Age = 8\n",
    "    def AgeMonths(self): \n",
    "        return self.Age * 12\n",
    "\n",
    "Allen = SeaBass()\n",
    "print(f'Allens age is {Allen.Age} years which is {Allen.AgeMonths()} months')  \n",
    "\n",
    "Allen.Location = 'Charleston'\n",
    "print(Allen.Location)  \n",
    "\n",
    "Stacy = SeaBass()\n",
    "Stacy.Age = 10 \n",
    "print(f'Stacys age is {Stacy.Age} years which is {Stacy.AgeMonths()} months')\n",
    "\n",
    "# Reassign Age\n",
    "SeaBass.Age = 2 \n",
    "print(f'Stacys age is {Stacy.Age} years which is {Stacy.AgeMonths()} months')\n"
   ]
  },
  {
   "cell_type": "markdown",
   "id": "25b99398",
   "metadata": {},
   "source": [
    "What happens here?"
   ]
  },
  {
   "cell_type": "code",
   "execution_count": 28,
   "id": "4cc7c6ac",
   "metadata": {},
   "outputs": [
    {
     "name": "stdout",
     "output_type": "stream",
     "text": [
      "Allens age is 2 years which is 24 months\n"
     ]
    }
   ],
   "source": [
    "print(f'Allens age is {Allen.Age} years which is {Allen.AgeMonths()} months') "
   ]
  },
  {
   "cell_type": "markdown",
   "id": "f7cc8526",
   "metadata": {},
   "source": [
    "### Use of class __init__ to assign values"
   ]
  },
  {
   "cell_type": "code",
   "execution_count": 29,
   "id": "97f705ae",
   "metadata": {},
   "outputs": [
    {
     "name": "stdout",
     "output_type": "stream",
     "text": [
      "Allen age is 8 years which is 96 months\n",
      "Charleston\n",
      "Stacy age is 10 years which is 120 months\n",
      "Jeff age is 8 years which is 96 months\n",
      "Stacy age is 10 years which is 120 months\n"
     ]
    }
   ],
   "source": [
    "class SeaBass:\n",
    "    Age = 8\n",
    "    \n",
    "    def __init__(self, name = 'Jeff'):\n",
    "        self.name = name\n",
    "    \n",
    "    def AgeMonths(self): \n",
    "        return self.Age * 12\n",
    "    \n",
    "    def PrintAge(self): \n",
    "        return print(f'{self.name} age is {self.Age} years which is {self.AgeMonths()} months') \n",
    "    \n",
    "\n",
    "Allen = SeaBass('Allen')\n",
    "Allen.PrintAge()\n",
    "\n",
    "Allen.Location = 'Charleston'\n",
    "print(Allen.Location)  \n",
    "\n",
    "Stacy = SeaBass('Stacy')\n",
    "Stacy.Age = 10 \n",
    "Stacy.PrintAge()\n",
    "\n",
    "Jeff = SeaBass()\n",
    "Jeff.PrintAge()\n",
    "\n",
    "\n",
    "# Reassign Age\n",
    "SeaBass.Age = 2 \n",
    "Stacy.PrintAge()"
   ]
  },
  {
   "cell_type": "markdown",
   "id": "5c7a1c40",
   "metadata": {},
   "source": [
    "What happens here?"
   ]
  },
  {
   "cell_type": "code",
   "execution_count": 30,
   "id": "2876ce97",
   "metadata": {},
   "outputs": [
    {
     "name": "stdout",
     "output_type": "stream",
     "text": [
      "Allen age is 2 years which is 24 months\n",
      "Jeffrey age is 2 years which is 24 months\n",
      "Allen age is 2 years which is 24 months\n"
     ]
    }
   ],
   "source": [
    "Allen.PrintAge()\n",
    "\n",
    "Jeff.name = 'Jeffrey'\n",
    "Jeff.PrintAge()\n",
    "\n",
    "Allen.PrintAge()"
   ]
  },
  {
   "cell_type": "markdown",
   "id": "cdf76f0b",
   "metadata": {},
   "source": [
    "### Assigning new class operands"
   ]
  },
  {
   "cell_type": "code",
   "execution_count": 31,
   "id": "33d4cb86",
   "metadata": {},
   "outputs": [],
   "source": [
    "class Trawl:\n",
    "    def __init__(self, s = 50):\n",
    "        self._TonnesOfFish = s\n",
    "\n",
    "    def __bool__(self):\n",
    "        return self._TonnesOfFish < 100\n",
    "\n",
    "\n",
    "trawl1 = Trawl()"
   ]
  },
  {
   "cell_type": "markdown",
   "id": "21cdfd50",
   "metadata": {},
   "source": [
    "What haopens here?"
   ]
  },
  {
   "cell_type": "code",
   "execution_count": 32,
   "id": "557befd7",
   "metadata": {},
   "outputs": [
    {
     "name": "stdout",
     "output_type": "stream",
     "text": [
      "Trawl was less than 100 tonnes:  True\n"
     ]
    }
   ],
   "source": [
    "print(f'Trawl was less than 100 tonnes:  {bool(trawl1)}')  # True"
   ]
  },
  {
   "cell_type": "markdown",
   "id": "f68de493",
   "metadata": {},
   "source": [
    "What happens here?"
   ]
  },
  {
   "cell_type": "code",
   "execution_count": 33,
   "id": "cc0e5258",
   "metadata": {},
   "outputs": [
    {
     "name": "stdout",
     "output_type": "stream",
     "text": [
      "200\n",
      "Trawl was less than 100 tonnes:  False\n"
     ]
    }
   ],
   "source": [
    "trawl2 = Trawl(200)\n",
    "print(trawl2._TonnesOfFish)  \n",
    "print(f'Trawl was less than 100 tonnes:  {bool(trawl2)}')  # False"
   ]
  },
  {
   "cell_type": "markdown",
   "id": "e852fe59",
   "metadata": {},
   "source": [
    "### Working with Getters and Setters - ways to control access to private variables and validate input"
   ]
  },
  {
   "cell_type": "markdown",
   "id": "6df5b6db",
   "metadata": {},
   "source": [
    "Define 3 different input classes to test each one"
   ]
  },
  {
   "cell_type": "code",
   "execution_count": 34,
   "id": "d51c691a",
   "metadata": {},
   "outputs": [],
   "source": [
    "class Whale:\n",
    "    def __init__(self, species):\n",
    "        self.species = species  # anyone can modify this freely\n",
    "\n",
    "class WhaleWithAccessors:\n",
    "    def __init__(self, species):\n",
    "        self._species = species\n",
    "\n",
    "    def get_species(self):\n",
    "        return self._species\n",
    "\n",
    "    def set_species(self, species):\n",
    "        if species in [\"big\", \"medium\", \"small\"]:\n",
    "            self._species = species\n",
    "        else:\n",
    "            raise ValueError('Species must be big, medium, or small')\n",
    "\n",
    "class WhaleWithProperties:\n",
    "    def __init__(self, species):\n",
    "        self._species = species\n",
    "\n",
    "    @property\n",
    "    def species(self):\n",
    "        print('Made it within species property....')\n",
    "        return self._species\n",
    "\n",
    "    @species.setter\n",
    "    def species(self, species):\n",
    "        if species in [\"big\", \"medium\", \"small\"]:\n",
    "            self._species = species\n",
    "        else:\n",
    "            raise ValueError('Species must be big, medium, or small')"
   ]
  },
  {
   "cell_type": "markdown",
   "id": "ca24f700",
   "metadata": {},
   "source": [
    "Test of the Whale class - What happens here?"
   ]
  },
  {
   "cell_type": "code",
   "execution_count": 35,
   "id": "162b3c02",
   "metadata": {},
   "outputs": [
    {
     "name": "stdout",
     "output_type": "stream",
     "text": [
      "whale0 is species: Tiny\n",
      "whale0 is now species: ReallyTiny - NOTE SPECIES CAN BE MODIFIED DIRECTLY\n"
     ]
    }
   ],
   "source": [
    "whale0 = Whale('Tiny')\n",
    "print(f'whale0 is species: {whale0.species}')\n",
    "whale0.species = 'ReallyTiny'\n",
    "print(f'whale0 is now species: {whale0.species} - NOTE SPECIES CAN BE MODIFIED DIRECTLY')"
   ]
  },
  {
   "cell_type": "markdown",
   "id": "0940e40e",
   "metadata": {},
   "source": [
    "Test of the WhaleWithAccessors class - What happens here?"
   ]
  },
  {
   "cell_type": "code",
   "execution_count": 36,
   "id": "45189234",
   "metadata": {},
   "outputs": [
    {
     "name": "stdout",
     "output_type": "stream",
     "text": [
      "whale1 is species: Tiny\n",
      "\n",
      "Try to directly change species with species not in list...\n",
      "\n",
      "whale1 is now species: Tiny - NOTE SPECIES CAN STILL BE MODIFIED DIRECTLY\n",
      "\n",
      "\n",
      "Try to change species with set_species with species in list...\n",
      "\n",
      "whale1 is now species: big - WORKS!\n",
      "\n",
      "\n",
      "Try to change species with set_species with species not in list...\n",
      "\n"
     ]
    },
    {
     "ename": "ValueError",
     "evalue": "Species must be big, medium, or small",
     "output_type": "error",
     "traceback": [
      "\u001b[1;31m---------------------------------------------------------------------------\u001b[0m",
      "\u001b[1;31mValueError\u001b[0m                                Traceback (most recent call last)",
      "\u001b[1;32m<ipython-input-36-182c6b5757b2>\u001b[0m in \u001b[0;36m<module>\u001b[1;34m\u001b[0m\n\u001b[0;32m     10\u001b[0m \u001b[1;33m\u001b[0m\u001b[0m\n\u001b[0;32m     11\u001b[0m \u001b[0mprint\u001b[0m\u001b[1;33m(\u001b[0m\u001b[1;34m'\\n\\nTry to change species with set_species with species not in list...\\n'\u001b[0m\u001b[1;33m)\u001b[0m\u001b[1;33m\u001b[0m\u001b[1;33m\u001b[0m\u001b[0m\n\u001b[1;32m---> 12\u001b[1;33m \u001b[0mwhale1\u001b[0m\u001b[1;33m.\u001b[0m\u001b[0mset_species\u001b[0m\u001b[1;33m(\u001b[0m\u001b[1;34m'SuperTiny'\u001b[0m\u001b[1;33m)\u001b[0m\u001b[1;33m\u001b[0m\u001b[1;33m\u001b[0m\u001b[0m\n\u001b[0m",
      "\u001b[1;32m<ipython-input-34-e64b4479b76f>\u001b[0m in \u001b[0;36mset_species\u001b[1;34m(self, species)\u001b[0m\n\u001b[0;32m     14\u001b[0m             \u001b[0mself\u001b[0m\u001b[1;33m.\u001b[0m\u001b[0m_species\u001b[0m \u001b[1;33m=\u001b[0m \u001b[0mspecies\u001b[0m\u001b[1;33m\u001b[0m\u001b[1;33m\u001b[0m\u001b[0m\n\u001b[0;32m     15\u001b[0m         \u001b[1;32melse\u001b[0m\u001b[1;33m:\u001b[0m\u001b[1;33m\u001b[0m\u001b[1;33m\u001b[0m\u001b[0m\n\u001b[1;32m---> 16\u001b[1;33m             \u001b[1;32mraise\u001b[0m \u001b[0mValueError\u001b[0m\u001b[1;33m(\u001b[0m\u001b[1;34m'Species must be big, medium, or small'\u001b[0m\u001b[1;33m)\u001b[0m\u001b[1;33m\u001b[0m\u001b[1;33m\u001b[0m\u001b[0m\n\u001b[0m\u001b[0;32m     17\u001b[0m \u001b[1;33m\u001b[0m\u001b[0m\n\u001b[0;32m     18\u001b[0m \u001b[1;32mclass\u001b[0m \u001b[0mWhaleWithProperties\u001b[0m\u001b[1;33m:\u001b[0m\u001b[1;33m\u001b[0m\u001b[1;33m\u001b[0m\u001b[0m\n",
      "\u001b[1;31mValueError\u001b[0m: Species must be big, medium, or small"
     ]
    }
   ],
   "source": [
    "whale1 = WhaleWithAccessors('Tiny')\n",
    "print(f'whale1 is species: {whale1._species}')\n",
    "print('\\nTry to directly change species with species not in list...\\n')\n",
    "whale1.species = 'ReallyTiny'\n",
    "print(f'whale1 is now species: {whale1.get_species()} - NOTE SPECIES CAN STILL BE MODIFIED DIRECTLY')\n",
    "\n",
    "print('\\n\\nTry to change species with set_species with species in list...\\n')\n",
    "whale1.set_species('big')\n",
    "print(f'whale1 is now species: {whale1.get_species()} - WORKS!')\n",
    "\n",
    "print('\\n\\nTry to change species with set_species with species not in list...\\n')\n",
    "whale1.set_species('SuperTiny')"
   ]
  },
  {
   "cell_type": "markdown",
   "id": "e9ee47c5",
   "metadata": {},
   "source": [
    "Test of the WhaleWithProperties class - What happens here?"
   ]
  },
  {
   "cell_type": "code",
   "execution_count": 37,
   "id": "315d06be",
   "metadata": {},
   "outputs": [
    {
     "name": "stdout",
     "output_type": "stream",
     "text": [
      "whale2 is species: medium - NOTE ACCESSED WITH _species\n",
      "\n",
      "\n",
      "Try to change species with species in list...\n",
      "\n",
      "Made it within species property....\n",
      "whale2 is now species: medium - WORKS!  NOTE ACCESSED WITH species\n"
     ]
    }
   ],
   "source": [
    "whale2 = WhaleWithProperties('medium')\n",
    "print(f'whale2 is species: {whale2._species} - NOTE ACCESSED WITH _species')\n",
    "# print('\\nTry to directly change species with species not in list...\\n')\n",
    "# whale2.species = 'ReallyTiny'\n",
    "\n",
    "print('\\n\\nTry to change species with species in list...\\n')\n",
    "whale1.set_species('big')\n",
    "print(f'whale2 is now species: {whale2.species} - WORKS!  NOTE ACCESSED WITH species')"
   ]
  },
  {
   "cell_type": "markdown",
   "id": "285017d9",
   "metadata": {},
   "source": [
    "### Inheritance - how to include one class within another"
   ]
  },
  {
   "cell_type": "code",
   "execution_count": 38,
   "id": "e7806105",
   "metadata": {},
   "outputs": [],
   "source": [
    "class Coral:\n",
    "    def __init__(self, depth):\n",
    "        self._depth = depth\n",
    "\n",
    "    def PrintDepth(self):\n",
    "        print(f'The coral was collected at {self._depth} feet')\n",
    "\n",
    "class HardCoral(Coral):\n",
    "    def __init__(self, depth, CoralType):\n",
    "        super().__init__(depth)\n",
    "        self._CoralType = CoralType\n",
    "\n",
    "    def PrintCoralType(self):\n",
    "        print(f'The coral type collected was {self._CoralType}')\n",
    "\n",
    "\n",
    "coral1 = HardCoral(100, 'brain')"
   ]
  },
  {
   "cell_type": "markdown",
   "id": "18cfed16",
   "metadata": {},
   "source": [
    "What happens here?"
   ]
  },
  {
   "cell_type": "code",
   "execution_count": 39,
   "id": "53eac63d",
   "metadata": {},
   "outputs": [
    {
     "name": "stdout",
     "output_type": "stream",
     "text": [
      "100\n",
      "brain\n"
     ]
    }
   ],
   "source": [
    "print(coral1._CoralType)\n",
    "print(coral1._depth)"
   ]
  },
  {
   "cell_type": "markdown",
   "id": "4393d8bd",
   "metadata": {},
   "source": [
    "What happens here?"
   ]
  },
  {
   "cell_type": "code",
   "execution_count": 40,
   "id": "7a3d613b",
   "metadata": {},
   "outputs": [
    {
     "name": "stdout",
     "output_type": "stream",
     "text": [
      "The coral type collected was brain\n",
      "The coral was collected at 100 feet\n"
     ]
    }
   ],
   "source": [
    "coral1.PrintCoralType()\n",
    "coral1.PrintDepth()"
   ]
  },
  {
   "cell_type": "markdown",
   "id": "1c950244",
   "metadata": {},
   "source": [
    "### Use of class methods to make a class instance"
   ]
  },
  {
   "cell_type": "markdown",
   "id": "46c792ac",
   "metadata": {},
   "source": [
    "Class definition"
   ]
  },
  {
   "cell_type": "code",
   "execution_count": 41,
   "id": "52f63548",
   "metadata": {},
   "outputs": [],
   "source": [
    "class Location:\n",
    "\n",
    "    def __init__(self, Lat, Long):\n",
    "        self.Lat = Lat\n",
    "        self.Long = Long\n",
    "\n",
    "    @classmethod\n",
    "    def from_list(cls, coords):  \n",
    "        print('In classmethod: from_list')\n",
    "        print(f'coords = {coords}')\n",
    "        print(f'    coords[0] = {coords[0]}')\n",
    "        print(f'    coords[1] = {coords[1]}')\n",
    "        print('*coords = ', end = '')\n",
    "        print(*coords)     \n",
    "        return cls(coords[0], coords[1])    # could also use:   return cls(*coords)\n",
    "        # return cls(*coords)\n",
    "\n",
    "    @classmethod\n",
    "    def from_class_location(cls, Location):  \n",
    "        print('In classmethod: from_class_location')\n",
    "        return cls(Location.Lat, Location.Long)\n"
   ]
  },
  {
   "cell_type": "markdown",
   "id": "9452b402",
   "metadata": {},
   "source": [
    "Calling a class method to make a class instance - example 1"
   ]
  },
  {
   "cell_type": "code",
   "execution_count": 42,
   "id": "b8d6b9ea",
   "metadata": {},
   "outputs": [
    {
     "name": "stdout",
     "output_type": "stream",
     "text": [
      "In classmethod: from_list\n",
      "coords = [32.77, -79.93]\n",
      "    coords[0] = 32.77\n",
      "    coords[1] = -79.93\n",
      "*coords = 32.77 -79.93\n",
      "Location1 is 32.77 N and -79.93 W\n",
      "\n"
     ]
    }
   ],
   "source": [
    "location1 = Location.from_list([32.77, -79.93])\n",
    "print(f'Location1 is {location1.Lat} N and {location1.Long} W\\n')"
   ]
  },
  {
   "cell_type": "markdown",
   "id": "145718cb",
   "metadata": {},
   "source": [
    "Calling a class method to make a class instance - example 2"
   ]
  },
  {
   "cell_type": "code",
   "execution_count": 43,
   "id": "6b6a6acb",
   "metadata": {},
   "outputs": [
    {
     "name": "stdout",
     "output_type": "stream",
     "text": [
      "In classmethod: from_class_location\n",
      "Location2 is 32.77 N and -79.93 W\n",
      "\n"
     ]
    }
   ],
   "source": [
    "location2 = Location.from_class_location(location1)\n",
    "print(f'Location2 is {location2.Lat} N and {location2.Long} W\\n')"
   ]
  },
  {
   "cell_type": "markdown",
   "id": "f4aa58b7",
   "metadata": {},
   "source": [
    "### Use of static methods to make a namespace"
   ]
  },
  {
   "cell_type": "markdown",
   "id": "cf8da7dc",
   "metadata": {},
   "source": [
    "Class definition"
   ]
  },
  {
   "cell_type": "code",
   "execution_count": 44,
   "id": "d77b9a34",
   "metadata": {},
   "outputs": [],
   "source": [
    "class WordUtilities:\n",
    "\n",
    "    @staticmethod\n",
    "    def print_first_word(sentence):\n",
    "        words = sentence.split()\n",
    "        return words[0]\n",
    "\n",
    "    @staticmethod\n",
    "    def print_second_word(sentence):\n",
    "        words = sentence.split()\n",
    "        return words[1]\n",
    "    \n",
    "    @staticmethod\n",
    "    def print_longest_word(sentence):\n",
    "        words = sentence.split()\n",
    "        words = sorted(words, key = len)  # order of their lengths\n",
    "        return words[-1]   # returns the last word in the list"
   ]
  },
  {
   "cell_type": "markdown",
   "id": "273d76a3",
   "metadata": {},
   "source": [
    "Example using the WordUtilities namespace"
   ]
  },
  {
   "cell_type": "code",
   "execution_count": 45,
   "id": "c0c51d11",
   "metadata": {},
   "outputs": [
    {
     "name": "stdout",
     "output_type": "stream",
     "text": [
      "The sentence is : Big fish live in the lake by the alligator with 2 teeth\n",
      "\n",
      "The first word in the sentence is:  Big\n",
      "The second word in the sentence is:  fish\n",
      "The longest word in the sentence is:  alligator\n"
     ]
    }
   ],
   "source": [
    "sentence = 'Big fish live in the lake by the alligator with 2 teeth'\n",
    "print(f'The sentence is : {sentence}\\n')\n",
    "print(f'The first word in the sentence is:  {WordUtilities.print_first_word(sentence)}')\n",
    "print(f'The second word in the sentence is:  {WordUtilities.print_second_word(sentence)}')\n",
    "print(f'The longest word in the sentence is:  {WordUtilities.print_longest_word(sentence)}')"
   ]
  },
  {
   "cell_type": "markdown",
   "id": "cefa320f",
   "metadata": {},
   "source": [
    "### Use of dataclass in python - more similar to C++ syntax"
   ]
  },
  {
   "cell_type": "markdown",
   "id": "414051a5",
   "metadata": {},
   "source": [
    "Import libraries and class definition"
   ]
  },
  {
   "cell_type": "code",
   "execution_count": 60,
   "id": "91fe94df",
   "metadata": {},
   "outputs": [],
   "source": [
    "from dataclasses import dataclass\n",
    "import datetime\n",
    "\n",
    "@dataclass\n",
    "class Fish:\n",
    "    name: str\n",
    "    length_inches: float = 0.0\n",
    "    weight: float = 0.0\n",
    "    collection: datetime.date = datetime.date(2019, 4, 13)\n",
    "\n",
    "    def length_cm(self) -> float:\n",
    "        return (self.length_inches * 2.54)\n"
   ]
  },
  {
   "cell_type": "markdown",
   "id": "561e2e53",
   "metadata": {},
   "source": [
    "Class instance and example"
   ]
  },
  {
   "cell_type": "code",
   "execution_count": 64,
   "id": "c53d18ee",
   "metadata": {},
   "outputs": [
    {
     "name": "stdout",
     "output_type": "stream",
     "text": [
      "The type of fish created was: Tuna\n",
      "The length of the fish created was: 45.0 inches or 114.3 cm\n",
      "The weight of the fish created was: 175.5 pounds\n",
      "The fish was collected on: 2019-04-13\n"
     ]
    }
   ],
   "source": [
    "fish0 = Fish('Tuna', 45.00, 175.50)\n",
    "print(f'The type of fish created was: {fish0.name}')\n",
    "print(f'The length of the fish created was: {fish0.length_inches} inches or {fish0.length_cm()} cm')\n",
    "print(f'The weight of the fish created was: {fish0.weight} pounds')\n",
    "print(f'The fish was collected on: {fish0.collection}')"
   ]
  },
  {
   "cell_type": "markdown",
   "id": "3d974c97-50fb-4b48-b291-9afaf32175b5",
   "metadata": {},
   "source": [
    "### Quiz"
   ]
  },
  {
   "cell_type": "markdown",
   "id": "4d82790e-77f5-4779-9424-b5c23d286ded",
   "metadata": {},
   "source": [
    "[https://www.w3schools.com/python/python_classes.asp]"
   ]
  },
  {
   "cell_type": "markdown",
   "id": "3b887f80-135e-4a0a-9d80-5760593fc005",
   "metadata": {},
   "source": [
    "### Resources [web resources for reference or reading to help expand knowledge on this section's content]"
   ]
  },
  {
   "cell_type": "markdown",
   "id": "d4c8e6b0",
   "metadata": {},
   "source": [
    "[https://www.geeksforgeeks.org/python-classes-and-objects/]"
   ]
  }
 ],
 "metadata": {
  "kernelspec": {
   "display_name": "Python 3",
   "language": "python",
   "name": "python3"
  },
  "language_info": {
   "codemirror_mode": {
    "name": "ipython",
    "version": 3
   },
   "file_extension": ".py",
   "mimetype": "text/x-python",
   "name": "python",
   "nbconvert_exporter": "python",
   "pygments_lexer": "ipython3",
   "version": "3.8.8"
  }
 },
 "nbformat": 4,
 "nbformat_minor": 5
}
