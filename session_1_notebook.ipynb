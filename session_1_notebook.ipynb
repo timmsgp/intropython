{
 "cells": [
  {
   "cell_type": "markdown",
   "id": "e6b67206",
   "metadata": {},
   "source": [
    "# Welcome to Session 1"
   ]
  },
  {
   "cell_type": "markdown",
   "id": "6ab3e70c",
   "metadata": {},
   "source": [
    "In this session, we're going to master some basic data types and simple data structures. These are the nuts and bolts of writing code. But first a little housekeeping..."
   ]
  },
  {
   "cell_type": "code",
   "execution_count": null,
   "id": "208f3f2a",
   "metadata": {},
   "outputs": [],
   "source": [
    "# Understanding code can be helped by providing explanatory comments.\n",
    "# In Python a comment line is preceded by the # symbol so that the\n",
    "# text will not be 'run' or 'interpreted' when the script is run\n",
    "\n",
    "'''\n",
    "A block of text can be \"commented out\" using triple quotes before and after the text\n",
    "\n",
    "'''"
   ]
  },
  {
   "cell_type": "markdown",
   "id": "aebb26e3",
   "metadata": {},
   "source": [
    "## The Simplest of Data Types"
   ]
  },
  {
   "cell_type": "code",
   "execution_count": null,
   "id": "94e1a789",
   "metadata": {},
   "outputs": [],
   "source": [
    "#This is an integer (a whole number)\n",
    "4\n",
    "\n",
    "#This is a float (a decimal number)\n",
    "3.14\n",
    "\n",
    "#This is a string (A string is text, or mixed alphanumeric and special characters)\n",
    "#Note that text is always placed in single or double quotation marks)\n",
    "'fish'\n",
    "\n",
    "\"octopus\""
   ]
  },
  {
   "cell_type": "markdown",
   "id": "992e6b72",
   "metadata": {},
   "source": [
    "## Variables"
   ]
  },
  {
   "cell_type": "markdown",
   "id": "8807136a",
   "metadata": {},
   "source": [
    "We can think of a variable as a label for something. We use the label to reference it. Variables are assigned values with the = sign."
   ]
  },
  {
   "cell_type": "code",
   "execution_count": 2,
   "id": "63ed242a",
   "metadata": {},
   "outputs": [],
   "source": [
    "mynumber = 2\n",
    "myfish = 'Red Drum'\n",
    "myfish_length_cm = 28.5"
   ]
  },
  {
   "cell_type": "markdown",
   "id": "17be6853",
   "metadata": {},
   "source": [
    "## Built in Functions"
   ]
  },
  {
   "cell_type": "markdown",
   "id": "610d8f21",
   "metadata": {},
   "source": [
    "Python has built in 'functions' which perform specific tasks. Functions often require variables because they do something to/with those variables. Here are a couple of functions that we can use with our variables.\n",
    "\n",
    "The function name is listed first, followed by parentheses into which the variable or variables are placed."
   ]
  },
  {
   "cell_type": "code",
   "execution_count": 3,
   "id": "e8f4c38e",
   "metadata": {},
   "outputs": [
    {
     "name": "stdout",
     "output_type": "stream",
     "text": [
      "2\n",
      "Red Drum\n",
      "28.5\n"
     ]
    }
   ],
   "source": [
    "# print() - prints something on the screen\n",
    "\n",
    "print(mynumber)\n",
    "print(myfish)\n",
    "print(myfish_length_cm)"
   ]
  },
  {
   "cell_type": "code",
   "execution_count": 4,
   "id": "51395fd7",
   "metadata": {},
   "outputs": [
    {
     "name": "stdout",
     "output_type": "stream",
     "text": [
      "2 Red Drum 28.5\n"
     ]
    }
   ],
   "source": [
    "#You can also pass multiple variables to the print function\n",
    "\n",
    "print(mynumber,myfish,myfish_length_cm)"
   ]
  },
  {
   "cell_type": "code",
   "execution_count": 11,
   "id": "3e6ace44",
   "metadata": {},
   "outputs": [
    {
     "name": "stdout",
     "output_type": "stream",
     "text": [
      "<class 'int'>\n"
     ]
    }
   ],
   "source": [
    "# type() - provides the data type of the variable you provide\n",
    "\n",
    "print(type(mynumber))\n",
    "\n",
    "# This is a function nested within a function.\n",
    "# We are printing the outcome of the type function\n",
    "# We need to be aware of the variable type so that we know what we can do with it"
   ]
  },
  {
   "cell_type": "markdown",
   "id": "9f61446b",
   "metadata": {},
   "source": [
    "## Task 1"
   ]
  },
  {
   "cell_type": "raw",
   "id": "2e667275",
   "metadata": {},
   "source": [
    "1. Create three variables and assign them an integer, a float, and a string respectively\n",
    "2. Print each of the variables on the screen\n",
    "3. Print the type of each variable on the screen"
   ]
  },
  {
   "cell_type": "markdown",
   "id": "3566c25a",
   "metadata": {},
   "source": [
    "## Question 1"
   ]
  },
  {
   "cell_type": "markdown",
   "id": "c6286981",
   "metadata": {},
   "source": [
    "What is the difference between these two variables?\n",
    "\n",
    "a = 2\n",
    "\n",
    "b = '2'"
   ]
  },
  {
   "cell_type": "markdown",
   "id": "8dab728d",
   "metadata": {},
   "source": [
    "The variable type impacts what you can do with it. Can we add a and b?"
   ]
  },
  {
   "cell_type": "code",
   "execution_count": 5,
   "id": "2bb328d4",
   "metadata": {
    "scrolled": true
   },
   "outputs": [
    {
     "ename": "TypeError",
     "evalue": "unsupported operand type(s) for +: 'int' and 'str'",
     "output_type": "error",
     "traceback": [
      "\u001b[0;31m---------------------------------------------------------------------------\u001b[0m",
      "\u001b[0;31mTypeError\u001b[0m                                 Traceback (most recent call last)",
      "\u001b[0;32m<ipython-input-5-8d0b0296c974>\u001b[0m in \u001b[0;36m<module>\u001b[0;34m\u001b[0m\n\u001b[1;32m      2\u001b[0m \u001b[0mb\u001b[0m \u001b[0;34m=\u001b[0m \u001b[0;34m'2'\u001b[0m\u001b[0;34m\u001b[0m\u001b[0;34m\u001b[0m\u001b[0m\n\u001b[1;32m      3\u001b[0m \u001b[0;34m\u001b[0m\u001b[0m\n\u001b[0;32m----> 4\u001b[0;31m \u001b[0mprint\u001b[0m\u001b[0;34m(\u001b[0m\u001b[0ma\u001b[0m\u001b[0;34m+\u001b[0m\u001b[0mb\u001b[0m\u001b[0;34m)\u001b[0m\u001b[0;34m\u001b[0m\u001b[0;34m\u001b[0m\u001b[0m\n\u001b[0m",
      "\u001b[0;31mTypeError\u001b[0m: unsupported operand type(s) for +: 'int' and 'str'"
     ]
    }
   ],
   "source": [
    "a = 2\n",
    "b = '2'\n",
    "\n",
    "print(a+b)"
   ]
  },
  {
   "cell_type": "markdown",
   "id": "38ba81c9",
   "metadata": {},
   "source": [
    "Try assigning an integer to the variable b and then print the result of adding a and b"
   ]
  },
  {
   "cell_type": "code",
   "execution_count": 6,
   "id": "698a3648",
   "metadata": {},
   "outputs": [
    {
     "ename": "SyntaxError",
     "evalue": "invalid syntax (<ipython-input-6-0d37f3eba522>, line 2)",
     "output_type": "error",
     "traceback": [
      "\u001b[0;36m  File \u001b[0;32m\"<ipython-input-6-0d37f3eba522>\"\u001b[0;36m, line \u001b[0;32m2\u001b[0m\n\u001b[0;31m    b =\u001b[0m\n\u001b[0m        ^\u001b[0m\n\u001b[0;31mSyntaxError\u001b[0m\u001b[0;31m:\u001b[0m invalid syntax\n"
     ]
    }
   ],
   "source": [
    "a = 2\n",
    "b = \n",
    "\n",
    "#print a+b\n"
   ]
  },
  {
   "cell_type": "markdown",
   "id": "cc6b38b3",
   "metadata": {},
   "source": [
    "## Lists, Tuples, and Dictionaries"
   ]
  },
  {
   "cell_type": "markdown",
   "id": "fe7d3d6f",
   "metadata": {},
   "source": [
    "Programmers frequently need to handle groups of variables. It's a given that we need to do this. Python has several data types to do this and we're going to consider three now."
   ]
  },
  {
   "cell_type": "code",
   "execution_count": null,
   "id": "d2be0c4d",
   "metadata": {},
   "outputs": [],
   "source": [
    "# Lists are defined with square brackets\n",
    "# Lists can contain any kind of variable or other Python data types\n",
    "\n",
    "# Create an empty list:\n",
    "my_empty_list = []\n",
    "\n",
    "#Create a list of numbers:\n",
    "my_num_list = [1,6,3,6,7,4]\n",
    "\n",
    "#Create a list of words:\n",
    "my_fish_list = ['Red Drum','Sheepshead','Flounder']\n",
    "\n",
    "#Create a list of lists!!!\n",
    "my_fishes = [['Red Drum',17],['Sheepshead',12],['Flounder',3]]"
   ]
  },
  {
   "cell_type": "code",
   "execution_count": null,
   "id": "60be427a",
   "metadata": {},
   "outputs": [],
   "source": []
  },
  {
   "cell_type": "code",
   "execution_count": null,
   "id": "3b21987f",
   "metadata": {},
   "outputs": [],
   "source": []
  },
  {
   "cell_type": "code",
   "execution_count": null,
   "id": "338a405b",
   "metadata": {},
   "outputs": [],
   "source": []
  },
  {
   "cell_type": "code",
   "execution_count": null,
   "id": "eab2eaab",
   "metadata": {},
   "outputs": [],
   "source": []
  },
  {
   "cell_type": "code",
   "execution_count": null,
   "id": "b8e82d4c",
   "metadata": {},
   "outputs": [],
   "source": []
  },
  {
   "cell_type": "code",
   "execution_count": null,
   "id": "8d559bf0",
   "metadata": {},
   "outputs": [],
   "source": []
  }
 ],
 "metadata": {
  "kernelspec": {
   "display_name": "Python 3",
   "language": "python",
   "name": "python3"
  },
  "language_info": {
   "codemirror_mode": {
    "name": "ipython",
    "version": 3
   },
   "file_extension": ".py",
   "mimetype": "text/x-python",
   "name": "python",
   "nbconvert_exporter": "python",
   "pygments_lexer": "ipython3",
   "version": "3.7.10"
  }
 },
 "nbformat": 4,
 "nbformat_minor": 5
}
