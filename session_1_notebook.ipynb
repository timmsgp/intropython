{
 "cells": [
  {
   "cell_type": "markdown",
   "id": "c89a63f0",
   "metadata": {},
   "source": [
    "# Welcome to Session 1"
   ]
  },
  {
   "cell_type": "markdown",
   "id": "4d1d5247",
   "metadata": {},
   "source": [
    "In this session, we're going to master some basic data types and simple data structures. These are the nuts and bolts of writing code. But first a little housekeeping..."
   ]
  },
  {
   "cell_type": "code",
   "execution_count": null,
   "id": "adaf4b27",
   "metadata": {},
   "outputs": [],
   "source": [
    "# Understanding code can be helped by providing explanatory comments.\n",
    "# In Python a comment line is preceded by the # symbol so that the\n",
    "# text will not be 'run' or 'interpreted' when the script is run\n",
    "\n",
    "'''\n",
    "A block of text can be \"commented out\" using triple quotes before and after the text\n",
    "\n",
    "'''"
   ]
  },
  {
   "cell_type": "markdown",
   "id": "59f4bb3a",
   "metadata": {},
   "source": [
    "## The Simplest of Data Types"
   ]
  },
  {
   "cell_type": "code",
   "execution_count": null,
   "id": "b07d1e0f",
   "metadata": {},
   "outputs": [],
   "source": [
    "#This is an integer (a whole number)\n",
    "4\n",
    "\n",
    "#This is a float (a decimal number)\n",
    "3.14\n",
    "\n",
    "#This is a string (A string is text, or mixed alphanumeric and special characters)\n",
    "#Note that text is always placed in single or double quotation marks\n",
    "'fish'\n",
    "\n",
    "\"octopus\""
   ]
  },
  {
   "cell_type": "markdown",
   "id": "2822e774",
   "metadata": {},
   "source": [
    "## Variables"
   ]
  },
  {
   "cell_type": "markdown",
   "id": "812559fe",
   "metadata": {},
   "source": [
    "We can think of a variable as a label for something. We use the label to reference it. Variables are defined or assigned values with the = sign."
   ]
  },
  {
   "cell_type": "code",
   "execution_count": 2,
   "id": "e3dc6de3",
   "metadata": {},
   "outputs": [],
   "source": [
    "mynumber = 2\n",
    "myfish = 'Red Drum'\n",
    "myfish_length_cm = 28.5"
   ]
  },
  {
   "cell_type": "markdown",
   "id": "39194b07",
   "metadata": {},
   "source": [
    "## Built in Functions"
   ]
  },
  {
   "cell_type": "markdown",
   "id": "20468de8",
   "metadata": {},
   "source": [
    "Python has built in 'functions' which perform specific tasks. Functions often require variables because they do something to/with those variables. Here are a couple of functions that we can use with our variables.\n",
    "\n",
    "The function name is listed first, followed by parentheses into which the variable or variables are placed."
   ]
  },
  {
   "cell_type": "code",
   "execution_count": 3,
   "id": "6fa7117f",
   "metadata": {},
   "outputs": [
    {
     "name": "stdout",
     "output_type": "stream",
     "text": [
      "2\n",
      "Red Drum\n",
      "28.5\n"
     ]
    }
   ],
   "source": [
    "# print() - prints something on the screen\n",
    "\n",
    "print(mynumber)\n",
    "print(myfish)\n",
    "print(myfish_length_cm)"
   ]
  },
  {
   "cell_type": "code",
   "execution_count": 4,
   "id": "dc2d589c",
   "metadata": {},
   "outputs": [
    {
     "name": "stdout",
     "output_type": "stream",
     "text": [
      "2 Red Drum 28.5\n"
     ]
    }
   ],
   "source": [
    "#You can also pass multiple variables to the print function\n",
    "\n",
    "print(mynumber,myfish,myfish_length_cm)"
   ]
  },
  {
   "cell_type": "code",
   "execution_count": 11,
   "id": "69931d28",
   "metadata": {},
   "outputs": [
    {
     "name": "stdout",
     "output_type": "stream",
     "text": [
      "<class 'int'>\n"
     ]
    }
   ],
   "source": [
    "# type() - provides the data type of the variable you provide\n",
    "\n",
    "print(type(mynumber))\n",
    "\n",
    "# This is a function nested within a function.\n",
    "# We are printing the outcome of the type function\n",
    "# We need to be aware of the variable type so that we know what we can do with it"
   ]
  },
  {
   "cell_type": "markdown",
   "id": "fe98a96c",
   "metadata": {},
   "source": [
    "## Task 1"
   ]
  },
  {
   "cell_type": "raw",
   "id": "9f14c63b",
   "metadata": {},
   "source": [
    "1. Create three variables and assign them an integer, a float, and a string respectively\n",
    "2. Print each of the variables on the screen\n",
    "3. Print the type of each variable on the screen"
   ]
  },
  {
   "cell_type": "code",
   "execution_count": null,
   "id": "1c480140",
   "metadata": {},
   "outputs": [],
   "source": [
    "#Tackle Task 1 here\n",
    "\n",
    "\n"
   ]
  },
  {
   "cell_type": "markdown",
   "id": "3dd7c3f5",
   "metadata": {},
   "source": [
    "## Question 1"
   ]
  },
  {
   "cell_type": "markdown",
   "id": "c5fb0ccc",
   "metadata": {},
   "source": [
    "What is the difference between these two variables?\n",
    "\n",
    "a = 2\n",
    "\n",
    "b = '2'"
   ]
  },
  {
   "cell_type": "markdown",
   "id": "e3850b3c",
   "metadata": {},
   "source": [
    "The variable type impacts what you can do with it. Can we add a and b?"
   ]
  },
  {
   "cell_type": "code",
   "execution_count": 5,
   "id": "8121be8d",
   "metadata": {
    "scrolled": true
   },
   "outputs": [
    {
     "ename": "TypeError",
     "evalue": "unsupported operand type(s) for +: 'int' and 'str'",
     "output_type": "error",
     "traceback": [
      "\u001b[0;31m---------------------------------------------------------------------------\u001b[0m",
      "\u001b[0;31mTypeError\u001b[0m                                 Traceback (most recent call last)",
      "\u001b[0;32m<ipython-input-5-8d0b0296c974>\u001b[0m in \u001b[0;36m<module>\u001b[0;34m\u001b[0m\n\u001b[1;32m      2\u001b[0m \u001b[0mb\u001b[0m \u001b[0;34m=\u001b[0m \u001b[0;34m'2'\u001b[0m\u001b[0;34m\u001b[0m\u001b[0;34m\u001b[0m\u001b[0m\n\u001b[1;32m      3\u001b[0m \u001b[0;34m\u001b[0m\u001b[0m\n\u001b[0;32m----> 4\u001b[0;31m \u001b[0mprint\u001b[0m\u001b[0;34m(\u001b[0m\u001b[0ma\u001b[0m\u001b[0;34m+\u001b[0m\u001b[0mb\u001b[0m\u001b[0;34m)\u001b[0m\u001b[0;34m\u001b[0m\u001b[0;34m\u001b[0m\u001b[0m\n\u001b[0m",
      "\u001b[0;31mTypeError\u001b[0m: unsupported operand type(s) for +: 'int' and 'str'"
     ]
    }
   ],
   "source": [
    "a = 2\n",
    "b = '2'\n",
    "\n",
    "print(a+b)"
   ]
  },
  {
   "cell_type": "markdown",
   "id": "250dca88",
   "metadata": {},
   "source": [
    "Try assigning an integer to the variable b and then print the result of adding a and b"
   ]
  },
  {
   "cell_type": "code",
   "execution_count": 6,
   "id": "8d2b83b7",
   "metadata": {},
   "outputs": [
    {
     "ename": "SyntaxError",
     "evalue": "invalid syntax (<ipython-input-6-0d37f3eba522>, line 2)",
     "output_type": "error",
     "traceback": [
      "\u001b[0;36m  File \u001b[0;32m\"<ipython-input-6-0d37f3eba522>\"\u001b[0;36m, line \u001b[0;32m2\u001b[0m\n\u001b[0;31m    b =\u001b[0m\n\u001b[0m        ^\u001b[0m\n\u001b[0;31mSyntaxError\u001b[0m\u001b[0;31m:\u001b[0m invalid syntax\n"
     ]
    }
   ],
   "source": [
    "a = 2\n",
    "b = \n",
    "\n",
    "#print a+b\n"
   ]
  },
  {
   "cell_type": "markdown",
   "id": "91eb23a5",
   "metadata": {},
   "source": [
    "## Lists, Tuples, and Dictionaries"
   ]
  },
  {
   "cell_type": "markdown",
   "id": "594c6dfc",
   "metadata": {},
   "source": [
    "Programmers frequently need to handle groups of variables. It's a given that we need to do this. Python has several data types to do this and we're going to consider three now."
   ]
  },
  {
   "cell_type": "markdown",
   "id": "f8b9f2f6",
   "metadata": {},
   "source": [
    "### Lists"
   ]
  },
  {
   "cell_type": "code",
   "execution_count": null,
   "id": "644c8ea3",
   "metadata": {},
   "outputs": [],
   "source": [
    "# Lists are defined with square brackets\n",
    "# Lists can contain any kind of variable or other Python data types\n",
    "\n",
    "# Create an empty list:\n",
    "my_empty_list = []\n",
    "\n",
    "#Create a list of numbers:\n",
    "my_num_list = [1,6,3,6,7,4]\n",
    "\n",
    "#Create a list of words:\n",
    "my_fish_list = ['Red Drum','Sheepshead','Flounder']\n",
    "\n",
    "#Create a list of lists!!!\n",
    "my_fishes = [['Red Drum',17],['Sheepshead',12],['Flounder',3]]"
   ]
  },
  {
   "cell_type": "markdown",
   "id": "4a93d76b",
   "metadata": {},
   "source": [
    "Lists keep items in the same order they were added. We can reference items in lists by their numeric position.\n",
    "\n",
    "Python starts counting at 0. The first item in a list is numbered 0"
   ]
  },
  {
   "cell_type": "code",
   "execution_count": 4,
   "id": "9857e1fe",
   "metadata": {},
   "outputs": [
    {
     "name": "stdout",
     "output_type": "stream",
     "text": [
      "Red Drum\n",
      "6\n",
      "Black Drum\n"
     ]
    }
   ],
   "source": [
    "my_fish_list = ['Red Drum','Sheepshead','Flounder','Mackerel','Whiting','Black Drum']\n",
    "\n",
    "#Print the first fish in the list using its position\n",
    "print(my_fish_list[0])"
   ]
  },
  {
   "cell_type": "code",
   "execution_count": null,
   "id": "cb19569a",
   "metadata": {},
   "outputs": [],
   "source": [
    "# How long is the list? There's a function for that!\n",
    "# len()\n",
    "listlength = len(my_fish_list)\n",
    "print(listlength)"
   ]
  },
  {
   "cell_type": "code",
   "execution_count": null,
   "id": "4f702eb9",
   "metadata": {},
   "outputs": [],
   "source": [
    "#So the list has six items. Print the last fish in the list using its absolute position\n",
    "print(my_fish_list[5])"
   ]
  },
  {
   "cell_type": "markdown",
   "id": "0966d6ab",
   "metadata": {},
   "source": [
    "## Task 2"
   ]
  },
  {
   "cell_type": "markdown",
   "id": "b5742932",
   "metadata": {},
   "source": [
    "We now have a variable called listlength that contains the length of my_fish_list.\n",
    "1) Test the type of the listlength variable.\n",
    "\n",
    "Is it an integer?\n",
    "\n",
    "2) We know that Python starts counting at zero, so the numeric position of the last item in the list isn't the same as the length of the list. The value of our listlength variable is 6. That's one higher than the position of the last item in the list, which is 5.\n",
    "\n",
    "Print the last item in the list using the listlength variable and simple math"
   ]
  },
  {
   "cell_type": "code",
   "execution_count": null,
   "id": "a6a599c0",
   "metadata": {},
   "outputs": [],
   "source": [
    "#Tackle Task 2 here"
   ]
  }
 ],
 "metadata": {
  "kernelspec": {
   "display_name": "Python 3",
   "language": "python",
   "name": "python3"
  },
  "language_info": {
   "codemirror_mode": {
    "name": "ipython",
    "version": 3
   },
   "file_extension": ".py",
   "mimetype": "text/x-python",
   "name": "python",
   "nbconvert_exporter": "python",
   "pygments_lexer": "ipython3",
   "version": "3.7.10"
  }
 },
 "nbformat": 4,
 "nbformat_minor": 5
}
