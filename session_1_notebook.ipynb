{
 "cells": [
  {
   "cell_type": "markdown",
   "id": "8a65517f",
   "metadata": {},
   "source": [
    "# Welcome to Session 1"
   ]
  },
  {
   "cell_type": "markdown",
   "id": "a7d1414e",
   "metadata": {},
   "source": [
    "In this session, we're going to master some basic data types and simple data structures. These are the nuts and bolts of writing code. But first a little housekeeping..."
   ]
  },
  {
   "cell_type": "code",
   "execution_count": null,
   "id": "fe5d8383",
   "metadata": {},
   "outputs": [],
   "source": [
    "# Understanding code can be helped by providing explanatory comments.\n",
    "# In Python a comment line is preceded by the # symbol so that the\n",
    "# text will not be 'run' or 'interpreted' when the script is run\n",
    "\n",
    "'''\n",
    "A block of text can be \"commented out\" using triple quotes before and after the text\n",
    "\n",
    "'''"
   ]
  },
  {
   "cell_type": "markdown",
   "id": "42c8f2df",
   "metadata": {},
   "source": [
    "## The Simplest of Data Types"
   ]
  },
  {
   "cell_type": "code",
   "execution_count": null,
   "id": "3d9fad35",
   "metadata": {},
   "outputs": [],
   "source": [
    "#This is an integer (a whole number)\n",
    "4\n",
    "\n",
    "#This is a float (a decimal number)\n",
    "3.14\n",
    "\n",
    "#This is a string (A string is text, or mixed alphanumeric and special characters)\n",
    "#Note that text is always placed in single or double quotation marks)\n",
    "'fish'\n",
    "\n",
    "\"octopus\""
   ]
  },
  {
   "cell_type": "markdown",
   "id": "ab19d8f0",
   "metadata": {},
   "source": [
    "## Variables"
   ]
  },
  {
   "cell_type": "markdown",
   "id": "fc9bdf39",
   "metadata": {},
   "source": [
    "We can think of a variable as a label for something. We use the label to reference it. Labels are assigned with the = sign."
   ]
  },
  {
   "cell_type": "code",
   "execution_count": null,
   "id": "0b0ba156",
   "metadata": {},
   "outputs": [],
   "source": [
    "mynumber = 2\n",
    "print(mynumber)"
   ]
  }
 ],
 "metadata": {
  "kernelspec": {
   "display_name": "Python 3",
   "language": "python",
   "name": "python3"
  },
  "language_info": {
   "codemirror_mode": {
    "name": "ipython",
    "version": 3
   },
   "file_extension": ".py",
   "mimetype": "text/x-python",
   "name": "python",
   "nbconvert_exporter": "python",
   "pygments_lexer": "ipython3",
   "version": "3.7.10"
  }
 },
 "nbformat": 4,
 "nbformat_minor": 5
}
