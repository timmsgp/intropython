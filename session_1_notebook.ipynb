{
 "cells": [
  {
   "cell_type": "markdown",
   "id": "7a8c2b09",
   "metadata": {},
   "source": [
    "# Welcome to Session 1"
   ]
  },
  {
   "cell_type": "markdown",
   "id": "08aa4b0c",
   "metadata": {},
   "source": [
    "In this session, we're going to master some basic data types and simple data structures. These are the nuts and bolts of writing code. But first a little housekeeping..."
   ]
  },
  {
   "cell_type": "code",
   "execution_count": 1,
   "id": "b2943ba6",
   "metadata": {},
   "outputs": [],
   "source": [
    "# Understanding code can be helped by providing explanatory comments.\n",
    "# In Python a comment line is preceded by the # symbol so that the\n",
    "# text will not be 'run' or 'interpreted' when the script is run\n",
    "\n",
    "'''\n",
    "A block of text can be \"commented out\" using triple quotes before and after the text\n",
    "\n",
    "'''"
   ]
  },
  {
   "cell_type": "markdown",
   "id": "902365df",
   "metadata": {},
   "source": [
    "## The Simplest of Data Types"
   ]
  },
  {
   "cell_type": "markdown",
   "id": "68f4f4ed",
   "metadata": {},
   "source": [
    "4 is an integer (a whole number)\n",
    "\n",
    "\n",
    "3.14 is a float (a decimal number)\n",
    "\n",
    "\n",
    "'fish' and \"octopus\" are strings (a string is text, or mixed alphanumeric and special characters)\n",
    "\n",
    "Note that strings are always placed in single or double quotation marks\n",
    "\n",
    "\n"
   ]
  },
  {
   "cell_type": "markdown",
   "id": "b755f4ae",
   "metadata": {},
   "source": [
    "## Variables"
   ]
  },
  {
   "cell_type": "markdown",
   "id": "324fef5b",
   "metadata": {},
   "source": [
    "We can think of a variable as a label for something. We use the label to reference it. Variables are defined or assigned values with the = sign."
   ]
  },
  {
   "cell_type": "code",
   "execution_count": 3,
   "id": "925628f2",
   "metadata": {},
   "outputs": [],
   "source": [
    "mynumber = 2\n",
    "myfish = 'Red Drum'\n",
    "myfish_length_cm = 28.5"
   ]
  },
  {
   "cell_type": "markdown",
   "id": "1f410c7e",
   "metadata": {},
   "source": [
    "## Built in Functions"
   ]
  },
  {
   "cell_type": "markdown",
   "id": "3d94a023",
   "metadata": {},
   "source": [
    "Python has built in 'functions' which perform specific tasks. Functions often require variables because they do something to/with those variables. Here are a couple of functions that we can use with our variables.\n",
    "\n",
    "The function name is listed first, followed by parentheses into which the variable or variables are placed."
   ]
  },
  {
   "cell_type": "code",
   "execution_count": 8,
   "id": "37ed927c",
   "metadata": {},
   "outputs": [],
   "source": [
    "#You can also pass multiple variables to the print function\n",
    "\n",
    "print(mynumber,myfish,myfish_length_cm)"
   ]
  },
  {
   "cell_type": "code",
   "execution_count": 9,
   "id": "155df16b",
   "metadata": {
    "scrolled": true
   },
   "outputs": [],
   "source": [
    "# type() - provides the data type of the variable you provide\n",
    "\n",
    "print(type(mynumber))\n",
    "\n",
    "# This is a function nested within a function.\n",
    "# We are printing the outcome of the type function\n",
    "# We need to be aware of the variable type so that we know what we can do with it"
   ]
  },
  {
   "cell_type": "markdown",
   "id": "631274a0",
   "metadata": {},
   "source": [
    "## Task 1"
   ]
  },
  {
   "cell_type": "raw",
   "id": "b0ad117a",
   "metadata": {},
   "source": [
    "1. Create three variables and assign them an integer, a float, and a string respectively\n",
    "2. Print each of the variables on the screen\n",
    "3. Print the type of each variable on the screen"
   ]
  },
  {
   "cell_type": "code",
   "execution_count": 6,
   "id": "dff6eaf2",
   "metadata": {},
   "outputs": [],
   "source": [
    "#Tackle Task 1 here\n",
    "\n",
    "\n"
   ]
  },
  {
   "cell_type": "markdown",
   "id": "b196ece4",
   "metadata": {},
   "source": [
    "## Question 1"
   ]
  },
  {
   "cell_type": "markdown",
   "id": "8bbc48a9",
   "metadata": {},
   "source": [
    "What is the difference between these two variables?\n",
    "\n",
    "a = 2\n",
    "\n",
    "b = '2'"
   ]
  },
  {
   "cell_type": "markdown",
   "id": "722777ca",
   "metadata": {},
   "source": [
    "The variable type impacts what you can do with it. Can we add a and b?"
   ]
  },
  {
   "cell_type": "code",
   "execution_count": 10,
   "id": "b893bd6f",
   "metadata": {
    "scrolled": true
   },
   "outputs": [],
   "source": [
    "a = 2\n",
    "b = '2'\n",
    "\n",
    "print(a+b)"
   ]
  },
  {
   "cell_type": "markdown",
   "id": "f4270a78",
   "metadata": {},
   "source": [
    "Try assigning an integer to the variable b and then print the result of adding a and b"
   ]
  },
  {
   "cell_type": "code",
   "execution_count": 11,
   "id": "a768dae7",
   "metadata": {},
   "outputs": [],
   "source": [
    "a = 2\n",
    "b = \n",
    "\n",
    "print a+b\n"
   ]
  },
  {
   "cell_type": "markdown",
   "id": "333ece4b",
   "metadata": {},
   "source": [
    "## Lists, Tuples, and Dictionaries"
   ]
  },
  {
   "cell_type": "markdown",
   "id": "f4c49de9",
   "metadata": {},
   "source": [
    "Programmers frequently need to handle groups of variables. It's a given that we need to do this. Python has several data types to do this and we're going to consider three now."
   ]
  },
  {
   "cell_type": "markdown",
   "id": "253910dd",
   "metadata": {},
   "source": [
    "### Lists"
   ]
  },
  {
   "cell_type": "code",
   "execution_count": 3,
   "id": "d7fc4662",
   "metadata": {},
   "outputs": [],
   "source": [
    "# Lists are defined with square brackets\n",
    "# Lists can contain any kind of variable or other Python data types\n",
    "\n",
    "# Create an empty list:\n",
    "my_empty_list = []\n",
    "\n",
    "#Create a list of numbers:\n",
    "my_num_list = [1,6,3,6,7,4]\n",
    "\n",
    "#Create a list of words:\n",
    "my_fish_list = ['Red Drum','Sheepshead','Flounder']\n",
    "\n",
    "#Create a list of lists!!!\n",
    "my_fishes = [['Red Drum',17],['Sheepshead',12],['Flounder',3]]"
   ]
  },
  {
   "cell_type": "markdown",
   "id": "1bdb2b44",
   "metadata": {},
   "source": [
    "Lists keep items in the same order they were added. We can reference items in lists by their numeric position.\n",
    "\n",
    "Python starts counting at 0. The first item in a list has an index (position) of 0"
   ]
  },
  {
   "cell_type": "code",
   "execution_count": 12,
   "id": "c12b5fbc",
   "metadata": {},
   "outputs": [],
   "source": [
    "my_fish_list = ['Red Drum','Sheepshead','Flounder','Mackerel','Whiting','Black Drum']\n",
    "\n",
    "#Print the first fish in the list using its index (position)\n",
    "print(my_fish_list[0])"
   ]
  },
  {
   "cell_type": "code",
   "execution_count": 13,
   "id": "9211a5e2",
   "metadata": {},
   "outputs": [],
   "source": [
    "# How long is the list? There's a function for that!\n",
    "# len()\n",
    "listlength = len(my_fish_list)\n",
    "print(listlength)"
   ]
  },
  {
   "cell_type": "code",
   "execution_count": 14,
   "id": "d4a3ab5e",
   "metadata": {},
   "outputs": [],
   "source": [
    "#So the list has six items. Print the last fish in the list using its absolute position\n",
    "print(my_fish_list[5])"
   ]
  },
  {
   "cell_type": "markdown",
   "id": "48135aa2",
   "metadata": {},
   "source": [
    "## Task 2"
   ]
  },
  {
   "cell_type": "markdown",
   "id": "50307b6b",
   "metadata": {},
   "source": [
    "We now have a variable called listlength that contains the length of my_fish_list.\n",
    "1) Test the type of the listlength variable.\n",
    "\n",
    "Is it an integer?\n",
    "\n",
    "2) We know that Python starts counting at zero, so the numeric position of the last item in the list isn't the same as the length of the list. The value of our listlength variable is 6. That's one higher than the position of the last item in the list, which is 5.\n",
    "\n",
    "Print the last item in the list using the listlength variable and simple math to specify its index in the list"
   ]
  },
  {
   "cell_type": "code",
   "execution_count": null,
   "id": "89e3b2d9",
   "metadata": {},
   "outputs": [],
   "source": [
    "#Tackle Task 2 here\n",
    "\n",
    "\n",
    "\n",
    "\n"
   ]
  },
  {
   "cell_type": "code",
   "execution_count": 15,
   "id": "0700369b",
   "metadata": {},
   "outputs": [],
   "source": [
    "# Another way to get the last item in a list without knowing the length of the list\n",
    "# uses a negative index\n",
    "\n",
    "print(my_fish_list[-1])\n",
    "\n",
    "#And to get the penultimate item in the list use\n",
    "\n",
    "print(my_fish_list[-2])"
   ]
  },
  {
   "cell_type": "code",
   "execution_count": 16,
   "id": "7517e7e5",
   "metadata": {
    "scrolled": true
   },
   "outputs": [],
   "source": [
    "# To obtain multiple items in a list we use \"slicing\" which specifies a start and stop index\n",
    "\n",
    "print(my_fish_list[2:4])\n",
    "\n",
    "# Did you expect to get three items? The item at the Start index is included,\n",
    "# but the item at the stop index is excluded\n",
    "# We get a list containing the third and fourth items (with indexes 2 and 3)"
   ]
  },
  {
   "cell_type": "code",
   "execution_count": 17,
   "id": "7e078252",
   "metadata": {},
   "outputs": [],
   "source": [
    "# We can also slice multiple items from a list specifying only the start OR stop index\n",
    "\n",
    "print(my_fish_list[2:])\n",
    "\n",
    "# This gives us everything from Index 2 through the end of the list"
   ]
  },
  {
   "cell_type": "code",
   "execution_count": 18,
   "id": "c25609e0",
   "metadata": {},
   "outputs": [],
   "source": [
    "print(my_fish_list[:4])\n",
    "\n",
    "# This gives us everything from the beginning of the list up until (but not including)\n",
    "# the item at Index 4"
   ]
  },
  {
   "cell_type": "markdown",
   "id": "4f2f57fd",
   "metadata": {},
   "source": [
    "\n",
    "list.append(x)\n",
    "\n",
    "    Add an item to the end of the list. Equivalent to a[len(a):] = [x].\n",
    "\n",
    "list.extend(iterable)\n",
    "\n",
    "    Extend the list by appending all the items from the iterable. Equivalent to a[len(a):] = iterable.\n",
    "\n",
    "list.insert(i, x)\n",
    "\n",
    "    Insert an item at a given position. The first argument is the index of the element before which to insert, so a.insert(0, x) inserts at the front of the list, and a.insert(len(a), x) is equivalent to a.append(x).\n",
    "\n",
    "list.remove(x)\n",
    "\n",
    "    Remove the first item from the list whose value is equal to x. It raises a ValueError if there is no such item.\n",
    "\n",
    "list.pop([i])\n",
    "\n",
    "    Remove the item at the given position in the list, and return it. If no index is specified, a.pop() removes and returns the last item in the list. (The square brackets around the i in the method signature denote that the parameter is optional, not that you should type square brackets at that position. You will see this notation frequently in the Python Library Reference.)\n"
   ]
  },
  {
   "cell_type": "code",
   "execution_count": null,
   "id": "e3358909",
   "metadata": {},
   "outputs": [],
   "source": []
  },
  {
   "cell_type": "code",
   "execution_count": null,
   "id": "bca2645b",
   "metadata": {},
   "outputs": [],
   "source": []
  },
  {
   "cell_type": "code",
   "execution_count": null,
   "id": "2c16b09c",
   "metadata": {},
   "outputs": [],
   "source": []
  },
  {
   "cell_type": "code",
   "execution_count": null,
   "id": "cc550a0f",
   "metadata": {},
   "outputs": [],
   "source": []
  },
  {
   "cell_type": "code",
   "execution_count": null,
   "id": "0d43d3f8",
   "metadata": {},
   "outputs": [],
   "source": []
  },
  {
   "cell_type": "code",
   "execution_count": null,
   "id": "01b07ad2",
   "metadata": {},
   "outputs": [],
   "source": []
  }
 ],
 "metadata": {
  "kernelspec": {
   "display_name": "Python 3",
   "language": "python",
   "name": "python3"
  },
  "language_info": {
   "codemirror_mode": {
    "name": "ipython",
    "version": 3
   },
   "file_extension": ".py",
   "mimetype": "text/x-python",
   "name": "python",
   "nbconvert_exporter": "python",
   "pygments_lexer": "ipython3",
   "version": "3.7.10"
  }
 },
 "nbformat": 4,
 "nbformat_minor": 5
}
