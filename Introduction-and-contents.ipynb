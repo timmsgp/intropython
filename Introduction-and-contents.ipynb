{
 "cells": [
  {
   "cell_type": "markdown",
   "id": "7a8c2b09",
   "metadata": {
    "tags": []
   },
   "source": [
    "# Welcome to Introduction to Python"
   ]
  },
  {
   "cell_type": "markdown",
   "id": "08aa4b0c",
   "metadata": {},
   "source": [
    "This short course is a practical introduction to fundamental knowledge and skills in using Python."
   ]
  },
  {
   "cell_type": "markdown",
   "id": "902365df",
   "metadata": {
    "tags": []
   },
   "source": [
    "## Learning Objectives"
   ]
  },
  {
   "cell_type": "markdown",
   "id": "f89248dc-d892-4db2-b252-b97e7a7d3b5a",
   "metadata": {},
   "source": [
    "In this course you will\n",
    "\n",
    "1. Learn how to interact with Python in the Jupyter Notebook environment\n",
    "2. Learn how Python and Python scripts are structured and apply this in writing code\n",
    "3. Understand and test several basic data types\n",
    "4. Read and manipulate Python lists and dictionaries\n",
    "5. Create and run Python user defined functions\n",
    "6. Read CSV files, modify the content, and write CSV files\n",
    "7. "
   ]
  },
  {
   "cell_type": "markdown",
   "id": "68f4f4ed",
   "metadata": {},
   "source": [
    "### About Jupyter Notebooks and Binder"
   ]
  },
  {
   "cell_type": "markdown",
   "id": "b755f4ae",
   "metadata": {},
   "source": [
    "You are looking at a Jupyter Notebook. It is a linear series of cells.\n",
    "\n",
    "Each cell is either:\n",
    "* Code - The code (multicolored text) in these cells can be run.\n",
    "    * Click on the cell and hit SHIFT and ENTER (PC) or RETURN (MAC)\n",
    "* Markdown - text with a little formatting\n",
    "* Raw - text with no formatting"
   ]
  },
  {
   "cell_type": "markdown",
   "id": "8ef00ee6-1b75-41b9-921c-d5269e03f6bf",
   "metadata": {},
   "source": [
    "# This is a code cell. Click on it and then run it.\n",
    "\n",
    "print('Welcome to Introduction to Python')"
   ]
  },
  {
   "cell_type": "markdown",
   "id": "7fe6562d-859c-4796-9373-27530758c960",
   "metadata": {},
   "source": [
    "### What is Binder?"
   ]
  },
  {
   "cell_type": "markdown",
   "id": "3b9ad5e9-c63e-46fa-ba15-886b5608cdd5",
   "metadata": {},
   "source": [
    "Binder is a service that runs virtual servers. This Jupyter Notebook lives in a GitHub repository and is read by Binder to deliver it to you in a web browser as a fully functional Python instance. That way you don't have to install anything on your machine.\n",
    "\n",
    "Key things to note:\n",
    "1. You can interact with this notebook without fear of damaging the main files. Whatever you do is temporary.\n",
    "2. Code in many cells is dependent upon previous cells being successfully run.\n",
    "3. Nothing you do is permanent. If you leave the binder instance, the notebook will default to its original settings and content.\n",
    "4. You can save and export notebook content in various formats to preserve your work. If you are working on a challenge and need to return to it later, export the notebook (File -> Export) as HTML. Then you cna copy and paste any code you've written back into the notebook when you restart it."
   ]
  },
  {
   "cell_type": "markdown",
   "id": "3eed4a60-4631-4d93-9242-3816e581bf22",
   "metadata": {},
   "source": [
    "### Course Contents"
   ]
  },
  {
   "cell_type": "markdown",
   "id": "a6101a55-bee0-4dcc-9175-99d71f24a96f",
   "metadata": {},
   "source": [
    "* [Session 1 - Data Types and Data Structures](session_1_notebook.ipynb)\n",
    "* [Session 2 - Iterating (Getting Content from Iterables Like Lists and Dictionaries)](session_2_notebook.ipynb)\n",
    "* [Session 3 - User Defined Functions](session_3_notebook.ipynb)\n",
    "* [Session 4 - Working with CSV Files](session_4_notebook.ipynb)\n",
    "* [Session 5 - ]()\n",
    "* [Session 6 - ]()\n",
    "* [Session n - ]()"
   ]
  },
  {
   "cell_type": "markdown",
   "id": "3b887f80-135e-4a0a-9d80-5760593fc005",
   "metadata": {},
   "source": [
    "### Resources"
   ]
  },
  {
   "cell_type": "code",
   "execution_count": null,
   "id": "cffabfda-9a72-4db3-aab6-4a2d05e3b3af",
   "metadata": {},
   "outputs": [],
   "source": []
  }
 ],
 "metadata": {
  "kernelspec": {
   "display_name": "Python 3 (ipykernel)",
   "language": "python",
   "name": "python3"
  },
  "language_info": {
   "codemirror_mode": {
    "name": "ipython",
    "version": 3
   },
   "file_extension": ".py",
   "mimetype": "text/x-python",
   "name": "python",
   "nbconvert_exporter": "python",
   "pygments_lexer": "ipython3",
   "version": "3.7.10"
  }
 },
 "nbformat": 4,
 "nbformat_minor": 5
}
